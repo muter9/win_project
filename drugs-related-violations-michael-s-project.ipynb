{
 "cells": [
  {
   "cell_type": "markdown",
   "id": "b715556f",
   "metadata": {
    "papermill": {
     "duration": 0.010694,
     "end_time": "2022-11-15T14:04:11.786538",
     "exception": false,
     "start_time": "2022-11-15T14:04:11.775844",
     "status": "completed"
    },
    "tags": []
   },
   "source": [
    "# 1.Traffic and Drugs Related Violations Dataset "
   ]
  },
  {
   "cell_type": "markdown",
   "id": "90ed4316",
   "metadata": {
    "papermill": {
     "duration": 0.008925,
     "end_time": "2022-11-15T14:04:11.805089",
     "exception": false,
     "start_time": "2022-11-15T14:04:11.796164",
     "status": "completed"
    },
    "tags": []
   },
   "source": [
    "## **Table of Contents:** \n",
    "\n",
    "Link to source : https://www.kaggle.com/datasets/shubamsumbria/traffic-violations-dataset/code\n",
    "\n",
    "Link to github project page :https://github.com/muter9/win_project/blob/main/traffic_violaions.csv\n",
    "\n",
    "---"
   ]
  },
  {
   "cell_type": "markdown",
   "id": "b4b2d756",
   "metadata": {
    "papermill": {
     "duration": 0.013049,
     "end_time": "2022-11-15T14:04:11.827359",
     "exception": false,
     "start_time": "2022-11-15T14:04:11.814310",
     "status": "completed"
    },
    "tags": []
   },
   "source": [
    " ## **Presenting by:**\n",
    " ### Michael Mutter ###\n",
    "  \n"
   ]
  },
  {
   "cell_type": "markdown",
   "id": "721f7be9",
   "metadata": {
    "papermill": {
     "duration": 0.009453,
     "end_time": "2022-11-15T14:04:11.846697",
     "exception": false,
     "start_time": "2022-11-15T14:04:11.837244",
     "status": "completed"
    },
    "tags": []
   },
   "source": [
    "![Image of Yaktocat](https://raw.githubusercontent.com/muter9/win_project/main/Drug-driving-774251.jpg)"
   ]
  },
  {
   "cell_type": "markdown",
   "id": "07ba2927",
   "metadata": {
    "papermill": {
     "duration": 0.009355,
     "end_time": "2022-11-15T14:04:11.865511",
     "exception": false,
     "start_time": "2022-11-15T14:04:11.856156",
     "status": "completed"
    },
    "tags": []
   },
   "source": [
    "## Synopsis: The project is based on a data from police reports from the field. \n",
    "##  the data, we Conclude three conclusions on the following topics:\n",
    "## 1. Ages. \n",
    "## 2. Racism  \n",
    "## 3. Gender. "
   ]
  },
  {
   "cell_type": "markdown",
   "id": "e1394276",
   "metadata": {
    "papermill": {
     "duration": 0.009005,
     "end_time": "2022-11-15T14:04:11.883932",
     "exception": false,
     "start_time": "2022-11-15T14:04:11.874927",
     "status": "completed"
    },
    "tags": []
   },
   "source": [
    "\n",
    "## <b>Importing </b> <b >Libraries and reading the data</b>\n"
   ]
  },
  {
   "cell_type": "code",
   "execution_count": 1,
   "id": "f019d87f",
   "metadata": {
    "execution": {
     "iopub.execute_input": "2022-11-15T14:04:11.904847Z",
     "iopub.status.busy": "2022-11-15T14:04:11.904199Z",
     "iopub.status.idle": "2022-11-15T14:04:13.262240Z",
     "shell.execute_reply": "2022-11-15T14:04:13.261233Z"
    },
    "papermill": {
     "duration": 1.371906,
     "end_time": "2022-11-15T14:04:13.265073",
     "exception": false,
     "start_time": "2022-11-15T14:04:11.893167",
     "status": "completed"
    },
    "tags": []
   },
   "outputs": [],
   "source": [
    "import glob\n",
    "from sklearn.svm import SVC\n",
    "import numpy as np\n",
    "import pandas as pd\n",
    "import seaborn as sns\n",
    "import matplotlib.pyplot as plt\n",
    "import pandas as pd\n",
    "from IPython.display import HTML"
   ]
  },
  {
   "cell_type": "code",
   "execution_count": 2,
   "id": "e36d4f70",
   "metadata": {
    "execution": {
     "iopub.execute_input": "2022-11-15T14:04:13.286898Z",
     "iopub.status.busy": "2022-11-15T14:04:13.285705Z",
     "iopub.status.idle": "2022-11-15T14:04:14.122755Z",
     "shell.execute_reply": "2022-11-15T14:04:14.121516Z"
    },
    "papermill": {
     "duration": 0.850638,
     "end_time": "2022-11-15T14:04:14.125588",
     "exception": false,
     "start_time": "2022-11-15T14:04:13.274950",
     "status": "completed"
    },
    "tags": []
   },
   "outputs": [],
   "source": [
    "url ='https://raw.githubusercontent.com/muter9/win_project/main/traffic_violaions.csv'\n",
    "data = pd.read_csv(url)\n"
   ]
  },
  {
   "cell_type": "markdown",
   "id": "2e2814e0",
   "metadata": {
    "papermill": {
     "duration": 0.009572,
     "end_time": "2022-11-15T14:04:14.144984",
     "exception": false,
     "start_time": "2022-11-15T14:04:14.135412",
     "status": "completed"
    },
    "tags": []
   },
   "source": [
    "## Let's take a look at our data"
   ]
  },
  {
   "cell_type": "code",
   "execution_count": 3,
   "id": "0b031132",
   "metadata": {
    "execution": {
     "iopub.execute_input": "2022-11-15T14:04:14.165986Z",
     "iopub.status.busy": "2022-11-15T14:04:14.165196Z",
     "iopub.status.idle": "2022-11-15T14:04:14.174039Z",
     "shell.execute_reply": "2022-11-15T14:04:14.172998Z"
    },
    "papermill": {
     "duration": 0.023525,
     "end_time": "2022-11-15T14:04:14.178010",
     "exception": false,
     "start_time": "2022-11-15T14:04:14.154485",
     "status": "completed"
    },
    "tags": []
   },
   "outputs": [
    {
     "data": {
      "text/plain": [
       "(52966, 15)"
      ]
     },
     "execution_count": 3,
     "metadata": {},
     "output_type": "execute_result"
    }
   ],
   "source": [
    "data.shape"
   ]
  },
  {
   "cell_type": "code",
   "execution_count": 4,
   "id": "2d1a91cf",
   "metadata": {
    "execution": {
     "iopub.execute_input": "2022-11-15T14:04:14.199182Z",
     "iopub.status.busy": "2022-11-15T14:04:14.198766Z",
     "iopub.status.idle": "2022-11-15T14:04:14.233937Z",
     "shell.execute_reply": "2022-11-15T14:04:14.232814Z"
    },
    "papermill": {
     "duration": 0.048741,
     "end_time": "2022-11-15T14:04:14.236519",
     "exception": false,
     "start_time": "2022-11-15T14:04:14.187778",
     "status": "completed"
    },
    "tags": []
   },
   "outputs": [
    {
     "data": {
      "text/html": [
       "<div>\n",
       "<style scoped>\n",
       "    .dataframe tbody tr th:only-of-type {\n",
       "        vertical-align: middle;\n",
       "    }\n",
       "\n",
       "    .dataframe tbody tr th {\n",
       "        vertical-align: top;\n",
       "    }\n",
       "\n",
       "    .dataframe thead th {\n",
       "        text-align: right;\n",
       "    }\n",
       "</style>\n",
       "<table border=\"1\" class=\"dataframe\">\n",
       "  <thead>\n",
       "    <tr style=\"text-align: right;\">\n",
       "      <th></th>\n",
       "      <th>stop_date</th>\n",
       "      <th>stop_time</th>\n",
       "      <th>country_name</th>\n",
       "      <th>driver_gender</th>\n",
       "      <th>driver_age_raw</th>\n",
       "      <th>driver_age</th>\n",
       "      <th>driver_race</th>\n",
       "      <th>violation_raw</th>\n",
       "      <th>violation</th>\n",
       "      <th>search_conducted</th>\n",
       "      <th>search_type</th>\n",
       "      <th>stop_outcome</th>\n",
       "      <th>is_arrested</th>\n",
       "      <th>stop_duration</th>\n",
       "      <th>drugs_related_stop</th>\n",
       "    </tr>\n",
       "  </thead>\n",
       "  <tbody>\n",
       "    <tr>\n",
       "      <th>0</th>\n",
       "      <td>1/2/2005</td>\n",
       "      <td>1:55</td>\n",
       "      <td>NaN</td>\n",
       "      <td>M</td>\n",
       "      <td>1985.0</td>\n",
       "      <td>20.0</td>\n",
       "      <td>White</td>\n",
       "      <td>Speeding</td>\n",
       "      <td>Speeding</td>\n",
       "      <td>False</td>\n",
       "      <td>NaN</td>\n",
       "      <td>Citation</td>\n",
       "      <td>False</td>\n",
       "      <td>0-15 Min</td>\n",
       "      <td>False</td>\n",
       "    </tr>\n",
       "    <tr>\n",
       "      <th>1</th>\n",
       "      <td>1/18/2005</td>\n",
       "      <td>8:15</td>\n",
       "      <td>NaN</td>\n",
       "      <td>M</td>\n",
       "      <td>1965.0</td>\n",
       "      <td>40.0</td>\n",
       "      <td>White</td>\n",
       "      <td>Speeding</td>\n",
       "      <td>Speeding</td>\n",
       "      <td>False</td>\n",
       "      <td>NaN</td>\n",
       "      <td>Citation</td>\n",
       "      <td>False</td>\n",
       "      <td>0-15 Min</td>\n",
       "      <td>False</td>\n",
       "    </tr>\n",
       "    <tr>\n",
       "      <th>2</th>\n",
       "      <td>1/23/2005</td>\n",
       "      <td>23:15</td>\n",
       "      <td>NaN</td>\n",
       "      <td>M</td>\n",
       "      <td>1972.0</td>\n",
       "      <td>33.0</td>\n",
       "      <td>White</td>\n",
       "      <td>Speeding</td>\n",
       "      <td>Speeding</td>\n",
       "      <td>False</td>\n",
       "      <td>NaN</td>\n",
       "      <td>Citation</td>\n",
       "      <td>False</td>\n",
       "      <td>0-15 Min</td>\n",
       "      <td>False</td>\n",
       "    </tr>\n",
       "    <tr>\n",
       "      <th>3</th>\n",
       "      <td>2/20/2005</td>\n",
       "      <td>17:15</td>\n",
       "      <td>NaN</td>\n",
       "      <td>M</td>\n",
       "      <td>1986.0</td>\n",
       "      <td>19.0</td>\n",
       "      <td>White</td>\n",
       "      <td>Call for Service</td>\n",
       "      <td>Other</td>\n",
       "      <td>False</td>\n",
       "      <td>NaN</td>\n",
       "      <td>Arrest Driver</td>\n",
       "      <td>True</td>\n",
       "      <td>16-30 Min</td>\n",
       "      <td>False</td>\n",
       "    </tr>\n",
       "    <tr>\n",
       "      <th>4</th>\n",
       "      <td>3/14/2005</td>\n",
       "      <td>10:00</td>\n",
       "      <td>NaN</td>\n",
       "      <td>F</td>\n",
       "      <td>1984.0</td>\n",
       "      <td>21.0</td>\n",
       "      <td>White</td>\n",
       "      <td>Speeding</td>\n",
       "      <td>Speeding</td>\n",
       "      <td>False</td>\n",
       "      <td>NaN</td>\n",
       "      <td>Citation</td>\n",
       "      <td>False</td>\n",
       "      <td>0-15 Min</td>\n",
       "      <td>False</td>\n",
       "    </tr>\n",
       "    <tr>\n",
       "      <th>...</th>\n",
       "      <td>...</td>\n",
       "      <td>...</td>\n",
       "      <td>...</td>\n",
       "      <td>...</td>\n",
       "      <td>...</td>\n",
       "      <td>...</td>\n",
       "      <td>...</td>\n",
       "      <td>...</td>\n",
       "      <td>...</td>\n",
       "      <td>...</td>\n",
       "      <td>...</td>\n",
       "      <td>...</td>\n",
       "      <td>...</td>\n",
       "      <td>...</td>\n",
       "      <td>...</td>\n",
       "    </tr>\n",
       "    <tr>\n",
       "      <th>52961</th>\n",
       "      <td>10/5/2011</td>\n",
       "      <td>1:55</td>\n",
       "      <td>NaN</td>\n",
       "      <td>NaN</td>\n",
       "      <td>NaN</td>\n",
       "      <td>NaN</td>\n",
       "      <td>NaN</td>\n",
       "      <td>NaN</td>\n",
       "      <td>NaN</td>\n",
       "      <td>False</td>\n",
       "      <td>NaN</td>\n",
       "      <td>NaN</td>\n",
       "      <td>NaN</td>\n",
       "      <td>NaN</td>\n",
       "      <td>False</td>\n",
       "    </tr>\n",
       "    <tr>\n",
       "      <th>52962</th>\n",
       "      <td>10/5/2011</td>\n",
       "      <td>6:43</td>\n",
       "      <td>NaN</td>\n",
       "      <td>M</td>\n",
       "      <td>1986.0</td>\n",
       "      <td>25.0</td>\n",
       "      <td>White</td>\n",
       "      <td>Speeding</td>\n",
       "      <td>Speeding</td>\n",
       "      <td>False</td>\n",
       "      <td>NaN</td>\n",
       "      <td>Citation</td>\n",
       "      <td>False</td>\n",
       "      <td>0-15 Min</td>\n",
       "      <td>False</td>\n",
       "    </tr>\n",
       "    <tr>\n",
       "      <th>52963</th>\n",
       "      <td>10/5/2011</td>\n",
       "      <td>6:49</td>\n",
       "      <td>NaN</td>\n",
       "      <td>NaN</td>\n",
       "      <td>NaN</td>\n",
       "      <td>NaN</td>\n",
       "      <td>NaN</td>\n",
       "      <td>NaN</td>\n",
       "      <td>NaN</td>\n",
       "      <td>False</td>\n",
       "      <td>NaN</td>\n",
       "      <td>NaN</td>\n",
       "      <td>NaN</td>\n",
       "      <td>NaN</td>\n",
       "      <td>False</td>\n",
       "    </tr>\n",
       "    <tr>\n",
       "      <th>52964</th>\n",
       "      <td>10/5/2011</td>\n",
       "      <td>7:19</td>\n",
       "      <td>NaN</td>\n",
       "      <td>F</td>\n",
       "      <td>1986.0</td>\n",
       "      <td>25.0</td>\n",
       "      <td>White</td>\n",
       "      <td>Speeding</td>\n",
       "      <td>Speeding</td>\n",
       "      <td>False</td>\n",
       "      <td>NaN</td>\n",
       "      <td>Citation</td>\n",
       "      <td>False</td>\n",
       "      <td>0-15 Min</td>\n",
       "      <td>False</td>\n",
       "    </tr>\n",
       "    <tr>\n",
       "      <th>52965</th>\n",
       "      <td>10/5</td>\n",
       "      <td>NaN</td>\n",
       "      <td>NaN</td>\n",
       "      <td>NaN</td>\n",
       "      <td>NaN</td>\n",
       "      <td>NaN</td>\n",
       "      <td>NaN</td>\n",
       "      <td>NaN</td>\n",
       "      <td>NaN</td>\n",
       "      <td>NaN</td>\n",
       "      <td>NaN</td>\n",
       "      <td>NaN</td>\n",
       "      <td>NaN</td>\n",
       "      <td>NaN</td>\n",
       "      <td>NaN</td>\n",
       "    </tr>\n",
       "  </tbody>\n",
       "</table>\n",
       "<p>52966 rows × 15 columns</p>\n",
       "</div>"
      ],
      "text/plain": [
       "       stop_date stop_time  country_name driver_gender  driver_age_raw  \\\n",
       "0       1/2/2005      1:55           NaN             M          1985.0   \n",
       "1      1/18/2005      8:15           NaN             M          1965.0   \n",
       "2      1/23/2005     23:15           NaN             M          1972.0   \n",
       "3      2/20/2005     17:15           NaN             M          1986.0   \n",
       "4      3/14/2005     10:00           NaN             F          1984.0   \n",
       "...          ...       ...           ...           ...             ...   \n",
       "52961  10/5/2011      1:55           NaN           NaN             NaN   \n",
       "52962  10/5/2011      6:43           NaN             M          1986.0   \n",
       "52963  10/5/2011      6:49           NaN           NaN             NaN   \n",
       "52964  10/5/2011      7:19           NaN             F          1986.0   \n",
       "52965       10/5       NaN           NaN           NaN             NaN   \n",
       "\n",
       "       driver_age driver_race     violation_raw violation search_conducted  \\\n",
       "0            20.0       White          Speeding  Speeding            False   \n",
       "1            40.0       White          Speeding  Speeding            False   \n",
       "2            33.0       White          Speeding  Speeding            False   \n",
       "3            19.0       White  Call for Service     Other            False   \n",
       "4            21.0       White          Speeding  Speeding            False   \n",
       "...           ...         ...               ...       ...              ...   \n",
       "52961         NaN         NaN               NaN       NaN            False   \n",
       "52962        25.0       White          Speeding  Speeding            False   \n",
       "52963         NaN         NaN               NaN       NaN            False   \n",
       "52964        25.0       White          Speeding  Speeding            False   \n",
       "52965         NaN         NaN               NaN       NaN              NaN   \n",
       "\n",
       "      search_type   stop_outcome is_arrested stop_duration drugs_related_stop  \n",
       "0             NaN       Citation       False      0-15 Min              False  \n",
       "1             NaN       Citation       False      0-15 Min              False  \n",
       "2             NaN       Citation       False      0-15 Min              False  \n",
       "3             NaN  Arrest Driver        True     16-30 Min              False  \n",
       "4             NaN       Citation       False      0-15 Min              False  \n",
       "...           ...            ...         ...           ...                ...  \n",
       "52961         NaN            NaN         NaN           NaN              False  \n",
       "52962         NaN       Citation       False      0-15 Min              False  \n",
       "52963         NaN            NaN         NaN           NaN              False  \n",
       "52964         NaN       Citation       False      0-15 Min              False  \n",
       "52965         NaN            NaN         NaN           NaN                NaN  \n",
       "\n",
       "[52966 rows x 15 columns]"
      ]
     },
     "execution_count": 4,
     "metadata": {},
     "output_type": "execute_result"
    }
   ],
   "source": [
    "data"
   ]
  },
  {
   "cell_type": "markdown",
   "id": "5fb18178",
   "metadata": {
    "papermill": {
     "duration": 0.009827,
     "end_time": "2022-11-15T14:04:14.256768",
     "exception": false,
     "start_time": "2022-11-15T14:04:14.246941",
     "status": "completed"
    },
    "tags": []
   },
   "source": [
    "### Explaination about the data:\n",
    "\n",
    "| Column      | Description |\n",
    "|:----------- |:----------- |\n",
    "| stop_date      | Date of violation       |\n",
    "| stop_time       | Time of violation      |\n",
    "| driver_gender      | Gender of violators (Male-M, Female-F)   |\n",
    "| driver_age       |  Age of violators   |\n",
    "| driver_race      | Race of violators     |\n",
    "| violation       | The violation kind      |\n",
    "| search_conducted        | Whether search is conducted in True and False form      |\n",
    "| stop_outcome        | Result of violation     |\n",
    "| stop_duration       | Detained time for violators approx (in minutes)     |\n",
    "| drug srelated stop        | Whether a person was involved in drugs crime (True, False)   |\n",
    "\n"
   ]
  },
  {
   "cell_type": "markdown",
   "id": "4335d405",
   "metadata": {
    "papermill": {
     "duration": 0.010039,
     "end_time": "2022-11-15T14:04:14.276883",
     "exception": false,
     "start_time": "2022-11-15T14:04:14.266844",
     "status": "completed"
    },
    "tags": []
   },
   "source": [
    "## cleaning our data"
   ]
  },
  {
   "cell_type": "code",
   "execution_count": 5,
   "id": "a29a91ca",
   "metadata": {
    "execution": {
     "iopub.execute_input": "2022-11-15T14:04:14.303131Z",
     "iopub.status.busy": "2022-11-15T14:04:14.302281Z",
     "iopub.status.idle": "2022-11-15T14:04:14.322460Z",
     "shell.execute_reply": "2022-11-15T14:04:14.321016Z"
    },
    "papermill": {
     "duration": 0.035466,
     "end_time": "2022-11-15T14:04:14.325693",
     "exception": false,
     "start_time": "2022-11-15T14:04:14.290227",
     "status": "completed"
    },
    "tags": []
   },
   "outputs": [],
   "source": [
    "data.drop('country_name',inplace=True,axis=1)"
   ]
  },
  {
   "cell_type": "markdown",
   "id": "833c544a",
   "metadata": {
    "papermill": {
     "duration": 0.010636,
     "end_time": "2022-11-15T14:04:14.351827",
     "exception": false,
     "start_time": "2022-11-15T14:04:14.341191",
     "status": "completed"
    },
    "tags": []
   },
   "source": [
    "---\n",
    "<a id='section4'></a>\n",
    "  #  $\\color{salmon}{\\text{First conclusion : Ages}}$ \n",
    "\n"
   ]
  },
  {
   "cell_type": "code",
   "execution_count": 6,
   "id": "a5b0a8ed",
   "metadata": {
    "execution": {
     "iopub.execute_input": "2022-11-15T14:04:14.383253Z",
     "iopub.status.busy": "2022-11-15T14:04:14.382851Z",
     "iopub.status.idle": "2022-11-15T14:04:15.332001Z",
     "shell.execute_reply": "2022-11-15T14:04:15.330828Z"
    },
    "papermill": {
     "duration": 0.96885,
     "end_time": "2022-11-15T14:04:15.334899",
     "exception": false,
     "start_time": "2022-11-15T14:04:14.366049",
     "status": "completed"
    },
    "tags": []
   },
   "outputs": [
    {
     "data": {
      "image/png": "[encoded data removed]",
      "text/plain": [
       "<Figure size 1440x504 with 1 Axes>"
      ]
     },
     "metadata": {
      "needs_background": "light"
     },
     "output_type": "display_data"
    }
   ],
   "source": [
    "plt.figure(figsize= (20,7))\n",
    "sns.countplot(data= data, x='driver_age')\n",
    "plt.xticks(x='driver_age',  rotation=90);\n",
    "plt.title('violation per age')\n",
    "plt.show()"
   ]
  },
  {
   "cell_type": "markdown",
   "id": "162231db",
   "metadata": {
    "papermill": {
     "duration": 0.010482,
     "end_time": "2022-11-15T14:04:15.356896",
     "exception": false,
     "start_time": "2022-11-15T14:04:15.346414",
     "status": "completed"
    },
    "tags": []
   },
   "source": [
    "#### We can see that most of the violations are made by young people from 17 to 32. "
   ]
  },
  {
   "cell_type": "code",
   "execution_count": 7,
   "id": "5fa557a8",
   "metadata": {
    "execution": {
     "iopub.execute_input": "2022-11-15T14:04:15.380552Z",
     "iopub.status.busy": "2022-11-15T14:04:15.379997Z",
     "iopub.status.idle": "2022-11-15T14:04:15.392724Z",
     "shell.execute_reply": "2022-11-15T14:04:15.391676Z"
    },
    "papermill": {
     "duration": 0.02759,
     "end_time": "2022-11-15T14:04:15.395310",
     "exception": false,
     "start_time": "2022-11-15T14:04:15.367720",
     "status": "completed"
    },
    "tags": []
   },
   "outputs": [],
   "source": [
    "arrested_data=data.loc[data['stop_outcome'] == 'Arrest Driver']\n",
    "arrested_ages= arrested_data[['driver_age']]"
   ]
  },
  {
   "cell_type": "code",
   "execution_count": 8,
   "id": "9e272221",
   "metadata": {
    "execution": {
     "iopub.execute_input": "2022-11-15T14:04:15.419133Z",
     "iopub.status.busy": "2022-11-15T14:04:15.418719Z",
     "iopub.status.idle": "2022-11-15T14:04:17.700981Z",
     "shell.execute_reply": "2022-11-15T14:04:17.699810Z"
    },
    "papermill": {
     "duration": 2.297727,
     "end_time": "2022-11-15T14:04:17.703931",
     "exception": false,
     "start_time": "2022-11-15T14:04:15.406204",
     "status": "completed"
    },
    "tags": []
   },
   "outputs": [
    {
     "data": {
      "image/png": "[encoded data removed]",
      "text/plain": [
       "<Figure size 360x360 with 1 Axes>"
      ]
     },
     "metadata": {
      "needs_background": "light"
     },
     "output_type": "display_data"
    }
   ],
   "source": [
    "g = sns.catplot(x=\"is_arrested\", y=\"driver_age\", kind=\"bar\", data=arrested_data)\n",
    "sns.swarmplot(x=\"is_arrested\", y=\"driver_age\", color=\"r\", size=3, data=arrested_data, ax=g.ax)\n",
    "plt.title('Arrested Ages')\n",
    "plt.show()"
   ]
  },
  {
   "cell_type": "code",
   "execution_count": 9,
   "id": "ac1e86d7",
   "metadata": {
    "execution": {
     "iopub.execute_input": "2022-11-15T14:04:17.729514Z",
     "iopub.status.busy": "2022-11-15T14:04:17.728496Z",
     "iopub.status.idle": "2022-11-15T14:04:17.916050Z",
     "shell.execute_reply": "2022-11-15T14:04:17.915061Z"
    },
    "papermill": {
     "duration": 0.202865,
     "end_time": "2022-11-15T14:04:17.918572",
     "exception": false,
     "start_time": "2022-11-15T14:04:17.715707",
     "status": "completed"
    },
    "tags": []
   },
   "outputs": [
    {
     "data": {
      "text/plain": [
       "<AxesSubplot:>"
      ]
     },
     "execution_count": 9,
     "metadata": {},
     "output_type": "execute_result"
    },
    {
     "data": {
      "image/png": "[encoded data removed]",
      "text/plain": [
       "<Figure size 216x360 with 1 Axes>"
      ]
     },
     "metadata": {
      "needs_background": "light"
     },
     "output_type": "display_data"
    }
   ],
   "source": [
    "plt.figure(figsize=(3,5))\n",
    "sns.boxplot(data = arrested_ages)"
   ]
  },
  {
   "cell_type": "code",
   "execution_count": 10,
   "id": "7237a671",
   "metadata": {
    "execution": {
     "iopub.execute_input": "2022-11-15T14:04:17.944176Z",
     "iopub.status.busy": "2022-11-15T14:04:17.943775Z",
     "iopub.status.idle": "2022-11-15T14:04:18.220880Z",
     "shell.execute_reply": "2022-11-15T14:04:18.219725Z"
    },
    "papermill": {
     "duration": 0.293537,
     "end_time": "2022-11-15T14:04:18.223975",
     "exception": false,
     "start_time": "2022-11-15T14:04:17.930438",
     "status": "completed"
    },
    "tags": []
   },
   "outputs": [
    {
     "data": {
      "image/png": "[encoded data removed]",
      "text/plain": [
       "<Figure size 432x288 with 1 Axes>"
      ]
     },
     "metadata": {
      "needs_background": "light"
     },
     "output_type": "display_data"
    }
   ],
   "source": [
    "drugs_only=data[data['drugs_related_stop']==True]\n",
    "sns.histplot(data=drugs_only, x='driver_age', hue='drugs_related_stop',binwidth=2)\n",
    "plt.show()"
   ]
  },
  {
   "cell_type": "markdown",
   "id": "7c8ccbe6",
   "metadata": {
    "papermill": {
     "duration": 0.011837,
     "end_time": "2022-11-15T14:04:18.247905",
     "exception": false,
     "start_time": "2022-11-15T14:04:18.236068",
     "status": "completed"
    },
    "tags": []
   },
   "source": [
    "#### most of the arrested poeple are in the median- the age of 30."
   ]
  },
  {
   "cell_type": "code",
   "execution_count": 11,
   "id": "1d832ad4",
   "metadata": {
    "execution": {
     "iopub.execute_input": "2022-11-15T14:04:18.274059Z",
     "iopub.status.busy": "2022-11-15T14:04:18.273195Z",
     "iopub.status.idle": "2022-11-15T14:04:18.522266Z",
     "shell.execute_reply": "2022-11-15T14:04:18.521185Z"
    },
    "papermill": {
     "duration": 0.26509,
     "end_time": "2022-11-15T14:04:18.525009",
     "exception": false,
     "start_time": "2022-11-15T14:04:18.259919",
     "status": "completed"
    },
    "tags": []
   },
   "outputs": [
    {
     "data": {
      "image/png": "[encoded data removed]",
      "text/plain": [
       "<Figure size 432x288 with 1 Axes>"
      ]
     },
     "metadata": {
      "needs_background": "light"
     },
     "output_type": "display_data"
    }
   ],
   "source": [
    "arrested_data=data.loc[data['stop_outcome'] == 'Arrest Driver']\n",
    "#sns.histplot(data=arrested_data, x='driver_age', hue='drugs_related_stop',binwidth=2)\n",
    "sns.barplot(x=\"drugs_related_stop\", y=\"driver_age\",  data=arrested_data,palette = 'Set2')\n",
    "plt.title('Arrested - Drugs and Age')\n",
    "plt.show()"
   ]
  },
  {
   "cell_type": "markdown",
   "id": "157668db",
   "metadata": {
    "papermill": {
     "duration": 0.012527,
     "end_time": "2022-11-15T14:04:18.549960",
     "exception": false,
     "start_time": "2022-11-15T14:04:18.537433",
     "status": "completed"
    },
    "tags": []
   },
   "source": [
    "#### The average age for being arrested & related to drugs is between 25 to 30."
   ]
  },
  {
   "cell_type": "code",
   "execution_count": 12,
   "id": "cb6e8f3b",
   "metadata": {
    "execution": {
     "iopub.execute_input": "2022-11-15T14:04:18.577488Z",
     "iopub.status.busy": "2022-11-15T14:04:18.576869Z",
     "iopub.status.idle": "2022-11-15T14:04:19.503799Z",
     "shell.execute_reply": "2022-11-15T14:04:19.502982Z"
    },
    "papermill": {
     "duration": 0.943706,
     "end_time": "2022-11-15T14:04:19.506136",
     "exception": false,
     "start_time": "2022-11-15T14:04:18.562430",
     "status": "completed"
    },
    "tags": []
   },
   "outputs": [
    {
     "data": {
      "image/png": "[encoded data removed]",
      "text/plain": [
       "<Figure size 1080x360 with 1 Axes>"
      ]
     },
     "metadata": {
      "needs_background": "light"
     },
     "output_type": "display_data"
    }
   ],
   "source": [
    "plt.figure(figsize=(15,5))\n",
    "sns.barplot(data = data, x='driver_age', y='stop_outcome')\n",
    "plt.title('stop outcome & Ages')\n",
    "plt.show()"
   ]
  },
  {
   "cell_type": "markdown",
   "id": "f711cfa2",
   "metadata": {
    "papermill": {
     "duration": 0.012225,
     "end_time": "2022-11-15T14:04:19.531145",
     "exception": false,
     "start_time": "2022-11-15T14:04:19.518920",
     "status": "completed"
    },
    "tags": []
   },
   "source": [
    "---\n",
    "## Our first conclusion following the above findings:\n",
    "## we see that on average,young peole commit most of the Traffic violations.\n",
    "## They were involved in drugs crime and arrested in the highest percentages.\n",
    "## We recommend enforcement and information activities in the younger age groups in order to reduce the number of offenses.\n",
    "## Focusing on this age group will have the best effect for handling the above offenses.\n",
    "---"
   ]
  },
  {
   "cell_type": "markdown",
   "id": "6860a1ca",
   "metadata": {
    "papermill": {
     "duration": 0.01225,
     "end_time": "2022-11-15T14:04:19.556348",
     "exception": false,
     "start_time": "2022-11-15T14:04:19.544098",
     "status": "completed"
    },
    "tags": []
   },
   "source": [
    " "
   ]
  },
  {
   "cell_type": "markdown",
   "id": "9cf2b7c1",
   "metadata": {
    "papermill": {
     "duration": 0.012848,
     "end_time": "2022-11-15T14:04:19.582161",
     "exception": false,
     "start_time": "2022-11-15T14:04:19.569313",
     "status": "completed"
    },
    "tags": []
   },
   "source": [
    "![Image of Yaktocat](https://raw.githubusercontent.com/muter9/win_project/main/images.jpg)"
   ]
  },
  {
   "cell_type": "markdown",
   "id": "384b1fa3",
   "metadata": {
    "papermill": {
     "duration": 0.012779,
     "end_time": "2022-11-15T14:04:19.608361",
     "exception": false,
     "start_time": "2022-11-15T14:04:19.595582",
     "status": "completed"
    },
    "tags": []
   },
   "source": [
    "---\n",
    "<a id='section4'></a>\n",
    "  #  $\\color{salmon}{\\text{Second conclusion : Rasizm}}$ \n",
    "\n"
   ]
  },
  {
   "cell_type": "markdown",
   "id": "bc6738a2",
   "metadata": {
    "papermill": {
     "duration": 0.012669,
     "end_time": "2022-11-15T14:04:19.633841",
     "exception": false,
     "start_time": "2022-11-15T14:04:19.621172",
     "status": "completed"
    },
    "tags": []
   },
   "source": [
    "![Image of Yaktocat](https://raw.githubusercontent.com/muter9/win_project/main/simpson.jpeg)"
   ]
  },
  {
   "cell_type": "code",
   "execution_count": 13,
   "id": "11be98fa",
   "metadata": {
    "execution": {
     "iopub.execute_input": "2022-11-15T14:04:19.661593Z",
     "iopub.status.busy": "2022-11-15T14:04:19.660853Z",
     "iopub.status.idle": "2022-11-15T14:04:19.669975Z",
     "shell.execute_reply": "2022-11-15T14:04:19.668865Z"
    },
    "papermill": {
     "duration": 0.025521,
     "end_time": "2022-11-15T14:04:19.672211",
     "exception": false,
     "start_time": "2022-11-15T14:04:19.646690",
     "status": "completed"
    },
    "tags": []
   },
   "outputs": [
    {
     "data": {
      "text/plain": [
       "array(['White', 'Black', 'Asian', nan, 'Hispanic', 'Other'], dtype=object)"
      ]
     },
     "execution_count": 13,
     "metadata": {},
     "output_type": "execute_result"
    }
   ],
   "source": [
    "\n",
    "data['driver_race'].unique()"
   ]
  },
  {
   "cell_type": "code",
   "execution_count": 14,
   "id": "6a79ce0e",
   "metadata": {
    "execution": {
     "iopub.execute_input": "2022-11-15T14:04:19.700381Z",
     "iopub.status.busy": "2022-11-15T14:04:19.699582Z",
     "iopub.status.idle": "2022-11-15T14:04:20.640567Z",
     "shell.execute_reply": "2022-11-15T14:04:20.639688Z"
    },
    "papermill": {
     "duration": 0.957966,
     "end_time": "2022-11-15T14:04:20.643254",
     "exception": false,
     "start_time": "2022-11-15T14:04:19.685288",
     "status": "completed"
    },
    "tags": []
   },
   "outputs": [
    {
     "data": {
      "image/png": "[encoded data removed]",
      "text/plain": [
       "<Figure size 432x288 with 1 Axes>"
      ]
     },
     "metadata": {
      "needs_background": "light"
     },
     "output_type": "display_data"
    }
   ],
   "source": [
    "therty= data[data['stop_duration']== '30+ Min']\n",
    "data['stop_duration']= data['stop_duration'].replace('16-30 Min',30)\n",
    "data['stop_duration']= data['stop_duration'].replace('30+ Min',45)\n",
    "data['stop_duration']= data['stop_duration'].replace('0-15 Min',15)\n",
    "data['stop_duration'].dropna()\n",
    "plt.title('Race & Stop duration')\n",
    "ax = sns.barplot(x=\"driver_race\", y=\"stop_duration\", data=data,palette = 'Set2')"
   ]
  },
  {
   "cell_type": "markdown",
   "id": "1bfa6174",
   "metadata": {
    "papermill": {
     "duration": 0.012768,
     "end_time": "2022-11-15T14:04:20.669319",
     "exception": false,
     "start_time": "2022-11-15T14:04:20.656551",
     "status": "completed"
    },
    "tags": []
   },
   "source": [
    "### we can see that the stopping time is the same for all ages.\n",
    "### however, if we only look at stop duration over 30 minetns, we can see disturbing thing : "
   ]
  },
  {
   "cell_type": "code",
   "execution_count": 15,
   "id": "8c61ff87",
   "metadata": {
    "execution": {
     "iopub.execute_input": "2022-11-15T14:04:20.698271Z",
     "iopub.status.busy": "2022-11-15T14:04:20.697090Z",
     "iopub.status.idle": "2022-11-15T14:04:20.968197Z",
     "shell.execute_reply": "2022-11-15T14:04:20.967345Z"
    },
    "papermill": {
     "duration": 0.287984,
     "end_time": "2022-11-15T14:04:20.970466",
     "exception": false,
     "start_time": "2022-11-15T14:04:20.682482",
     "status": "completed"
    },
    "tags": []
   },
   "outputs": [
    {
     "data": {
      "image/png": "[encoded data removed]",
      "text/plain": [
       "<Figure size 432x288 with 1 Axes>"
      ]
     },
     "metadata": {
      "needs_background": "light"
     },
     "output_type": "display_data"
    }
   ],
   "source": [
    "black=therty[therty['driver_race'] == 'Black'] \n",
    "white=therty[therty['driver_race'] == 'White']\n",
    "Hispanic=therty[therty['driver_race'] == 'Hispanic']\n",
    "\n",
    "all_black=len(data[data['driver_race'] == 'Black'])\n",
    "mean_black= len(black)/all_black\n",
    "\n",
    "\n",
    "all_white=len(data[data['driver_race'] == 'White'])\n",
    "mean_white= len(white)/all_white\n",
    "\n",
    "all_Hispanic=len(data[data['driver_race'] == 'Hispanic'])\n",
    "mean_Hispanic= len(Hispanic)/all_Hispanic\n",
    "\n",
    "\n",
    "df = pd.DataFrame({'Race':['Black', 'white','Hispanic'], 'Stop persent':[mean_black,mean_white,mean_Hispanic]})\n",
    "ax = df.plot.bar(x='Race', y='Stop persent', rot=0,color='silver')"
   ]
  },
  {
   "cell_type": "markdown",
   "id": "8421d3a5",
   "metadata": {
    "papermill": {
     "duration": 0.013058,
     "end_time": "2022-11-15T14:04:20.997061",
     "exception": false,
     "start_time": "2022-11-15T14:04:20.984003",
     "status": "completed"
    },
    "tags": []
   },
   "source": [
    "#### from all the people that were detained for a long time, minorities were arrested in average more minutes than white people."
   ]
  },
  {
   "cell_type": "code",
   "execution_count": 16,
   "id": "e52db127",
   "metadata": {
    "execution": {
     "iopub.execute_input": "2022-11-15T14:04:21.026236Z",
     "iopub.status.busy": "2022-11-15T14:04:21.025201Z",
     "iopub.status.idle": "2022-11-15T14:04:21.057092Z",
     "shell.execute_reply": "2022-11-15T14:04:21.056072Z"
    },
    "papermill": {
     "duration": 0.04927,
     "end_time": "2022-11-15T14:04:21.059649",
     "exception": false,
     "start_time": "2022-11-15T14:04:21.010379",
     "status": "completed"
    },
    "tags": []
   },
   "outputs": [
    {
     "data": {
      "text/html": [
       "<div>\n",
       "<style scoped>\n",
       "    .dataframe tbody tr th:only-of-type {\n",
       "        vertical-align: middle;\n",
       "    }\n",
       "\n",
       "    .dataframe tbody tr th {\n",
       "        vertical-align: top;\n",
       "    }\n",
       "\n",
       "    .dataframe thead th {\n",
       "        text-align: right;\n",
       "    }\n",
       "</style>\n",
       "<table border=\"1\" class=\"dataframe\">\n",
       "  <thead>\n",
       "    <tr style=\"text-align: right;\">\n",
       "      <th></th>\n",
       "      <th>numeric_search_conducted</th>\n",
       "    </tr>\n",
       "    <tr>\n",
       "      <th>driver_race</th>\n",
       "      <th></th>\n",
       "    </tr>\n",
       "  </thead>\n",
       "  <tbody>\n",
       "    <tr>\n",
       "      <th>Asian</th>\n",
       "      <td>0.023273</td>\n",
       "    </tr>\n",
       "    <tr>\n",
       "      <th>Black</th>\n",
       "      <td>0.077343</td>\n",
       "    </tr>\n",
       "    <tr>\n",
       "      <th>Hispanic</th>\n",
       "      <td>0.082215</td>\n",
       "    </tr>\n",
       "    <tr>\n",
       "      <th>Other</th>\n",
       "      <td>0.006711</td>\n",
       "    </tr>\n",
       "    <tr>\n",
       "      <th>White</th>\n",
       "      <td>0.032250</td>\n",
       "    </tr>\n",
       "  </tbody>\n",
       "</table>\n",
       "</div>"
      ],
      "text/plain": [
       "             numeric_search_conducted\n",
       "driver_race                          \n",
       "Asian                        0.023273\n",
       "Black                        0.077343\n",
       "Hispanic                     0.082215\n",
       "Other                        0.006711\n",
       "White                        0.032250"
      ]
     },
     "execution_count": 16,
     "metadata": {},
     "output_type": "execute_result"
    }
   ],
   "source": [
    "numeric_search_conducted = data['search_conducted'].astype('category').cat.codes \n",
    "data['numeric_search_conducted']=numeric_search_conducted  \n",
    "numeric_search_conducted.value_counts() \n",
    "search_by_race = data.groupby('driver_race')[['numeric_search_conducted']].mean() \n",
    "search_by_race"
   ]
  },
  {
   "cell_type": "code",
   "execution_count": 17,
   "id": "3e324cee",
   "metadata": {
    "execution": {
     "iopub.execute_input": "2022-11-15T14:04:21.089967Z",
     "iopub.status.busy": "2022-11-15T14:04:21.089539Z",
     "iopub.status.idle": "2022-11-15T14:04:21.335957Z",
     "shell.execute_reply": "2022-11-15T14:04:21.335028Z"
    },
    "papermill": {
     "duration": 0.264496,
     "end_time": "2022-11-15T14:04:21.338498",
     "exception": false,
     "start_time": "2022-11-15T14:04:21.074002",
     "status": "completed"
    },
    "tags": []
   },
   "outputs": [
    {
     "data": {
      "image/png": "[encoded data removed]",
      "text/plain": [
       "<Figure size 936x360 with 1 Axes>"
      ]
     },
     "metadata": {
      "needs_background": "light"
     },
     "output_type": "display_data"
    }
   ],
   "source": [
    "numeric_search_conducted = data['search_conducted'].astype('category').cat.codes \n",
    "numeric_search_conducted.value_counts() \n",
    "data['numeric_search_conducted']=numeric_search_conducted   \n",
    "\n",
    "data.groupby(['driver_race'])[['numeric_search_conducted']].mean().plot.bar(figsize=(13,5),color='orange')  \n",
    "plt.title('Race & Search conducted')\n",
    "plt.show()"
   ]
  },
  {
   "cell_type": "markdown",
   "id": "1bd8c5ce",
   "metadata": {
    "papermill": {
     "duration": 0.01356,
     "end_time": "2022-11-15T14:04:21.366052",
     "exception": false,
     "start_time": "2022-11-15T14:04:21.352492",
     "status": "completed"
    },
    "tags": []
   },
   "source": [
    "#### And here we can see that more searches are done on Black and Hispanic people.\n",
    "#### It is true also for arrested people:"
   ]
  },
  {
   "cell_type": "code",
   "execution_count": 18,
   "id": "cf8a3f49",
   "metadata": {
    "execution": {
     "iopub.execute_input": "2022-11-15T14:04:21.395854Z",
     "iopub.status.busy": "2022-11-15T14:04:21.395432Z",
     "iopub.status.idle": "2022-11-15T14:04:24.019248Z",
     "shell.execute_reply": "2022-11-15T14:04:24.017929Z"
    },
    "papermill": {
     "duration": 2.642001,
     "end_time": "2022-11-15T14:04:24.021947",
     "exception": false,
     "start_time": "2022-11-15T14:04:21.379946",
     "status": "completed"
    },
    "tags": []
   },
   "outputs": [
    {
     "data": {
      "image/png": "[encoded data removed]",
      "text/plain": [
       "<Figure size 432x288 with 1 Axes>"
      ]
     },
     "metadata": {
      "needs_background": "light"
     },
     "output_type": "display_data"
    }
   ],
   "source": [
    "sns.barplot(data = data, x='driver_race', y='is_arrested',palette = 'Set2')\n",
    "plt.title('Race & Arrested')\n",
    "plt.show()"
   ]
  },
  {
   "cell_type": "code",
   "execution_count": 19,
   "id": "8fa6c346",
   "metadata": {
    "execution": {
     "iopub.execute_input": "2022-11-15T14:04:24.053383Z",
     "iopub.status.busy": "2022-11-15T14:04:24.052969Z",
     "iopub.status.idle": "2022-11-15T14:04:26.699298Z",
     "shell.execute_reply": "2022-11-15T14:04:26.697882Z"
    },
    "papermill": {
     "duration": 2.664875,
     "end_time": "2022-11-15T14:04:26.701730",
     "exception": false,
     "start_time": "2022-11-15T14:04:24.036855",
     "status": "completed"
    },
    "tags": []
   },
   "outputs": [
    {
     "data": {
      "image/png": "[encoded data removed]",
      "text/plain": [
       "<Figure size 1080x360 with 1 Axes>"
      ]
     },
     "metadata": {
      "needs_background": "light"
     },
     "output_type": "display_data"
    }
   ],
   "source": [
    "plt.figure(figsize=(15,5))\n",
    "sns.barplot(x='driver_race',y='drugs_related_stop',data=data,palette = 'Set2')\n",
    "plt.title('Race vs Drug Related')\n",
    "plt.ylabel('Drug Related')\n",
    "plt.xlabel('Race')\n",
    "plt.show()"
   ]
  },
  {
   "cell_type": "markdown",
   "id": "f4e0e82f",
   "metadata": {
    "papermill": {
     "duration": 0.014356,
     "end_time": "2022-11-15T14:04:26.730947",
     "exception": false,
     "start_time": "2022-11-15T14:04:26.716591",
     "status": "completed"
    },
    "tags": []
   },
   "source": [
    "##  Following the above data, we see that there is racism. \n",
    "## We see that minorities are stopped and searched for longer in higher percentages. \n",
    "## minorities were involved in drug crimes and were taken into custody more because they were subjected to more searches are done on them compered to other people."
   ]
  },
  {
   "cell_type": "markdown",
   "id": "a256c877",
   "metadata": {
    "papermill": {
     "duration": 0.014308,
     "end_time": "2022-11-15T14:04:26.759877",
     "exception": false,
     "start_time": "2022-11-15T14:04:26.745569",
     "status": "completed"
    },
    "tags": []
   },
   "source": [
    "---\n",
    "<a id='section4'></a>\n",
    "  #  $\\color{salmon}{\\text{Third conclusion : Gender- men vs women}}$ \n",
    "\n"
   ]
  },
  {
   "cell_type": "markdown",
   "id": "a5edaf79",
   "metadata": {
    "papermill": {
     "duration": 0.014247,
     "end_time": "2022-11-15T14:04:26.788732",
     "exception": false,
     "start_time": "2022-11-15T14:04:26.774485",
     "status": "completed"
    },
    "tags": []
   },
   "source": [
    "![Image of Yaktocat](https://raw.githubusercontent.com/muter9/win_project/main/man%20and%20women.jpg)"
   ]
  },
  {
   "cell_type": "code",
   "execution_count": 20,
   "id": "4d208162",
   "metadata": {
    "execution": {
     "iopub.execute_input": "2022-11-15T14:04:26.820404Z",
     "iopub.status.busy": "2022-11-15T14:04:26.819541Z",
     "iopub.status.idle": "2022-11-15T14:04:26.850882Z",
     "shell.execute_reply": "2022-11-15T14:04:26.849999Z"
    },
    "papermill": {
     "duration": 0.050415,
     "end_time": "2022-11-15T14:04:26.853685",
     "exception": false,
     "start_time": "2022-11-15T14:04:26.803270",
     "status": "completed"
    },
    "tags": []
   },
   "outputs": [
    {
     "data": {
      "text/plain": [
       "1    36564\n",
       "0    13016\n",
       "dtype: int64"
      ]
     },
     "execution_count": 20,
     "metadata": {},
     "output_type": "execute_result"
    }
   ],
   "source": [
    "data.dropna(subset = ['driver_gender'],inplace= True)\n",
    "numeric_driver_gender = data['driver_gender'].astype('category').cat.codes \n",
    "data['numeric_driver_gender']=numeric_driver_gender \n",
    "numeric_driver_gender.value_counts() "
   ]
  },
  {
   "cell_type": "code",
   "execution_count": 21,
   "id": "64ca042c",
   "metadata": {
    "execution": {
     "iopub.execute_input": "2022-11-15T14:04:26.886514Z",
     "iopub.status.busy": "2022-11-15T14:04:26.886078Z",
     "iopub.status.idle": "2022-11-15T14:04:27.007605Z",
     "shell.execute_reply": "2022-11-15T14:04:27.005940Z"
    },
    "papermill": {
     "duration": 0.143087,
     "end_time": "2022-11-15T14:04:27.012149",
     "exception": false,
     "start_time": "2022-11-15T14:04:26.869062",
     "status": "completed"
    },
    "tags": []
   },
   "outputs": [
    {
     "data": {
      "image/png": "[encoded data removed]",
      "text/plain": [
       "<Figure size 432x288 with 1 Axes>"
      ]
     },
     "metadata": {},
     "output_type": "display_data"
    }
   ],
   "source": [
    "data['driver_gender'].value_counts().plot.pie(autopct='%1.1f%%');"
   ]
  },
  {
   "cell_type": "markdown",
   "id": "1c99496a",
   "metadata": {
    "papermill": {
     "duration": 0.037772,
     "end_time": "2022-11-15T14:04:27.088388",
     "exception": false,
     "start_time": "2022-11-15T14:04:27.050616",
     "status": "completed"
    },
    "tags": []
   },
   "source": [
    "#### For start, we can see that there are more men than women in our data. Thus, We will work mostly with an average."
   ]
  },
  {
   "cell_type": "markdown",
   "id": "9dc8f7f8",
   "metadata": {
    "papermill": {
     "duration": 0.014771,
     "end_time": "2022-11-15T14:04:27.118677",
     "exception": false,
     "start_time": "2022-11-15T14:04:27.103906",
     "status": "completed"
    },
    "tags": []
   },
   "source": [
    "#### now, let's see which one is doing more violations :"
   ]
  },
  {
   "cell_type": "code",
   "execution_count": 22,
   "id": "2c2e68f6",
   "metadata": {
    "execution": {
     "iopub.execute_input": "2022-11-15T14:04:27.150934Z",
     "iopub.status.busy": "2022-11-15T14:04:27.150463Z",
     "iopub.status.idle": "2022-11-15T14:04:27.391006Z",
     "shell.execute_reply": "2022-11-15T14:04:27.389812Z"
    },
    "papermill": {
     "duration": 0.260227,
     "end_time": "2022-11-15T14:04:27.394012",
     "exception": false,
     "start_time": "2022-11-15T14:04:27.133785",
     "status": "completed"
    },
    "tags": []
   },
   "outputs": [
    {
     "data": {
      "image/png": "[encoded data removed]",
      "text/plain": [
       "<Figure size 1080x720 with 1 Axes>"
      ]
     },
     "metadata": {
      "needs_background": "light"
     },
     "output_type": "display_data"
    }
   ],
   "source": [
    "arrested_data=data.loc[data['stop_outcome'] == 'Arrest Driver']\n",
    "plt.figure(figsize=(15,10))\n",
    "sns.stripplot(x=\"driver_gender\", y=\"driver_age\", data=arrested_data, jitter=0.09,palette = 'Set2')\n",
    "plt.show()"
   ]
  },
  {
   "cell_type": "code",
   "execution_count": 23,
   "id": "4390eceb",
   "metadata": {
    "execution": {
     "iopub.execute_input": "2022-11-15T14:04:27.430186Z",
     "iopub.status.busy": "2022-11-15T14:04:27.429198Z",
     "iopub.status.idle": "2022-11-15T14:04:29.811028Z",
     "shell.execute_reply": "2022-11-15T14:04:29.809893Z"
    },
    "papermill": {
     "duration": 2.402701,
     "end_time": "2022-11-15T14:04:29.813551",
     "exception": false,
     "start_time": "2022-11-15T14:04:27.410850",
     "status": "completed"
    },
    "tags": []
   },
   "outputs": [
    {
     "data": {
      "image/png": "[encoded data removed]",
      "text/plain": [
       "<Figure size 432x288 with 1 Axes>"
      ]
     },
     "metadata": {
      "needs_background": "light"
     },
     "output_type": "display_data"
    }
   ],
   "source": [
    "#plt.figure(figsize=(15,5))\n",
    "sns.barplot(x='driver_gender',y='drugs_related_stop',data=data,palette = 'Set2')\n",
    "plt.title('gender vs Drug Related')\n",
    "plt.ylabel('Drug Related')\n",
    "plt.xlabel('gender')\n",
    "plt.show()"
   ]
  },
  {
   "cell_type": "markdown",
   "id": "205cb6c8",
   "metadata": {
    "papermill": {
     "duration": 0.016848,
     "end_time": "2022-11-15T14:04:29.847353",
     "exception": false,
     "start_time": "2022-11-15T14:04:29.830505",
     "status": "completed"
    },
    "tags": []
   },
   "source": [
    "## The result of our poll : "
   ]
  },
  {
   "cell_type": "markdown",
   "id": "e143267e",
   "metadata": {
    "papermill": {
     "duration": 0.016403,
     "end_time": "2022-11-15T14:04:29.880653",
     "exception": false,
     "start_time": "2022-11-15T14:04:29.864250",
     "status": "completed"
    },
    "tags": []
   },
   "source": [
    "![Image of Yaktocat](https://raw.githubusercontent.com/muter9/win_project/main/our%20poll.jpeg)"
   ]
  },
  {
   "cell_type": "code",
   "execution_count": 24,
   "id": "bfd6ce25",
   "metadata": {
    "execution": {
     "iopub.execute_input": "2022-11-15T14:04:29.917024Z",
     "iopub.status.busy": "2022-11-15T14:04:29.916560Z",
     "iopub.status.idle": "2022-11-15T14:04:31.828424Z",
     "shell.execute_reply": "2022-11-15T14:04:31.827552Z"
    },
    "papermill": {
     "duration": 1.933031,
     "end_time": "2022-11-15T14:04:31.831020",
     "exception": false,
     "start_time": "2022-11-15T14:04:29.897989",
     "status": "completed"
    },
    "tags": []
   },
   "outputs": [
    {
     "data": {
      "image/png": "[encoded data removed]",
      "text/plain": [
       "<Figure size 1512x1008 with 11 Axes>"
      ]
     },
     "metadata": {
      "needs_background": "light"
     },
     "output_type": "display_data"
    }
   ],
   "source": [
    "g = sns.FacetGrid(data = data, col=\"violation_raw\", hue=\"violation_raw\", col_wrap=3,height=3.5, aspect=2.0)\n",
    "g.map_dataframe(sns.histplot, x = 'driver_gender', stat='probability')\n",
    "plt.show()"
   ]
  },
  {
   "cell_type": "markdown",
   "id": "3adba7ae",
   "metadata": {
    "papermill": {
     "duration": 0.016982,
     "end_time": "2022-11-15T14:04:31.865921",
     "exception": false,
     "start_time": "2022-11-15T14:04:31.848939",
     "status": "completed"
    },
    "tags": []
   },
   "source": [
    "---\n",
    "## our last conclusion is that men behave less cautiously.\n",
    "## Men have the highest chance of being caught for traffic offenses, drugs and even being taken into custody.\n",
    "## more over,although most people think that womans drive worst than men ,they are actually do most of the traffic violations.  "
   ]
  },
  {
   "cell_type": "markdown",
   "id": "57cf1121",
   "metadata": {
    "jp-MarkdownHeadingCollapsed": true,
    "papermill": {
     "duration": 0.017019,
     "end_time": "2022-11-15T14:04:31.900164",
     "exception": false,
     "start_time": "2022-11-15T14:04:31.883145",
     "status": "completed"
    },
    "tags": []
   },
   "source": [
    "![Image of Yaktocat](https://raw.githubusercontent.com/muter9/win_project/main/women.webp)"
   ]
  },
  {
   "cell_type": "markdown",
   "id": "413efe14",
   "metadata": {
    "papermill": {
     "duration": 0.016981,
     "end_time": "2022-11-15T14:04:31.934374",
     "exception": false,
     "start_time": "2022-11-15T14:04:31.917393",
     "status": "completed"
    },
    "tags": []
   },
   "source": [
    "## Thank you for listening. "
   ]
  },
  {
   "cell_type": "code",
   "execution_count": null,
   "id": "dcef98e4",
   "metadata": {
    "papermill": {
     "duration": 0.01758,
     "end_time": "2022-11-15T14:04:31.969224",
     "exception": false,
     "start_time": "2022-11-15T14:04:31.951644",
     "status": "completed"
    },
    "tags": []
   },
   "outputs": [],
   "source": []
  }
 ],
 "metadata": {
  "kernelspec": {
   "display_name": "Python 3",
   "language": "python",
   "name": "python3"
  },
  "language_info": {
   "codemirror_mode": {
    "name": "ipython",
    "version": 3
   },
   "file_extension": ".py",
   "mimetype": "text/x-python",
   "name": "python",
   "nbconvert_exporter": "python",
   "pygments_lexer": "ipython3",
   "version": "3.7.12"
  },
  "papermill": {
   "default_parameters": {},
   "duration": 29.47334,
   "end_time": "2022-11-15T14:04:32.809486",
   "environment_variables": {},
   "exception": null,
   "input_path": "__notebook__.ipynb",
   "output_path": "__notebook__.ipynb",
   "parameters": {},
   "start_time": "2022-11-15T14:04:03.336146",
   "version": "2.3.4"
  }
 },
 "nbformat": 4,
 "nbformat_minor": 5
}
